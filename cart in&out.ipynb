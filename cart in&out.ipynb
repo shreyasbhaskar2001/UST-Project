{
 "cells": [
  {
   "cell_type": "code",
   "execution_count": null,
   "id": "75b0d07a",
   "metadata": {},
   "outputs": [],
   "source": [
    "import torch\n",
    "from matplotlib import pyplot as plt\n",
    "import numpy as np\n",
    "import cv2"
   ]
  },
  {
   "cell_type": "code",
   "execution_count": null,
   "id": "df43640b",
   "metadata": {},
   "outputs": [],
   "source": [
    "!cd yolov5 && python train.py --img 320 --batch 16 --epochs 500 --data dataset.yml --weights yolov5s.pt --workers 2 "
   ]
  },
  {
   "cell_type": "code",
   "execution_count": null,
   "id": "c6ddd609",
   "metadata": {},
   "outputs": [],
   "source": [
    "model = torch.hub.load('ultralytics/yolov5', 'custom', path='yolov5/runs/train/exp9/weights/last.pt', force_reload=True)"
   ]
  },
  {
   "cell_type": "code",
   "execution_count": null,
   "id": "a0561657",
   "metadata": {},
   "outputs": [],
   "source": [
    "import os\n",
    "import time\n",
    "import uuid"
   ]
  },
  {
   "cell_type": "code",
   "execution_count": null,
   "id": "7f8a961f",
   "metadata": {},
   "outputs": [],
   "source": [
    "image_links = {\n",
    "    'https://previews.123rf.com/images/ammentorp/ammentorp1611/ammentorp161100520/66380796-young-friends-having-fun-on-shopping-carts-multiracial-young-people-racing-on-shopping-cart.jpg',\n",
    "    'https://images.ctfassets.net/9l3tjzgyn9gr/aR8LRVbCLG8t3AvhK2LQo/3fca3c7325d478c9183a510726afa921/SmartCart_1224.jpg?fm=jpg&fl=progressive&q=50&w=1200',\n",
    "    'https://www.cincinnati.com/gcdn/-mm-/b11ddaaebd6c5629dbc3a3c97a2349b520951aad/c=0-50-534-351/local/-/media/Cincinnati/Cincinnati/2014/06/25/1403697633000-downtowngrocery1.jpg?width=1200&disable=upscale&format=pjpg&auto=webp',\n",
    "    'https://townsquare.media/site/84/files/2020/11/GettyImages-129472166.jpg',\n",
    "    'https://www.drivingdynamics.com/hubfs/iStock-623710682.jpg',\n",
    "    'https://philressler.com/wp-content/uploads/2022/01/shopping-cart.jpeg'\n",
    "    \n",
    "}\n",
    "\n",
    "# Iterating...\n",
    "for i in image_links:\n",
    "    print(i)\n",
    "    \n",
    "    results = model(i)\n",
    "    class_ids = results.pred[0].detach().cpu().numpy()[:, -1].astype(int)\n",
    "    print(class_ids)\n",
    "    %matplotlib inline \n",
    "    plt.imshow(np.squeeze(results.render()))\n",
    "    plt.show()\n",
    "    print(\"\\n\")"
   ]
  },
  {
   "cell_type": "markdown",
   "id": "b1588d13",
   "metadata": {},
   "source": [
    "## real time"
   ]
  },
  {
   "cell_type": "code",
   "execution_count": null,
   "id": "3211787c",
   "metadata": {},
   "outputs": [],
   "source": [
    "cap = cv2.VideoCapture('mall_two.mp4')\n",
    "while cap.isOpened():\n",
    "    ret, frame = cap.read()\n",
    "    \n",
    "    # Make detections \n",
    "    results = model(frame)\n",
    "    \n",
    "    \n",
    "    cv2.imshow('YOLO', np.squeeze(results.render()))\n",
    "    \n",
    "    \n",
    "    if cv2.waitKey(10) & 0xFF == ord('q'):\n",
    "        break\n",
    "cap.release()\n",
    "cv2.destroyAllWindows()"
   ]
  },
  {
   "cell_type": "markdown",
   "id": "3288bc8b",
   "metadata": {},
   "source": [
    "## real time with counter"
   ]
  },
  {
   "cell_type": "code",
   "execution_count": null,
   "id": "5ee6ed30",
   "metadata": {},
   "outputs": [],
   "source": [
    "# Open the video capture\n",
    "cap = cv2.VideoCapture('mall_two.mp4')\n",
    "counter = 0\n",
    "while cap.isOpened():\n",
    "    \n",
    "    if counter < 0:\n",
    "        break\n",
    "        \n",
    "    ret, frame = cap.read()\n",
    "    \n",
    "    # Make detections \n",
    "    results = model(frame)\n",
    "    \n",
    "    # Get the class labels and confidences\n",
    "    class_ids = results.pred[0].detach().cpu().numpy()[:, -1].astype(int)\n",
    "    confidences = results.pred[0].detach().cpu().numpy()[:, 4]\n",
    "    \n",
    "    # Check if \"no owner\" class is detected\n",
    "    if 15 in class_ids:\n",
    "        counter = counter + 1\n",
    "    else:\n",
    "        counter = counter - 1\n",
    "    \n",
    "    cv2.putText(canvas, f'Shopping Cart Count: {counter}', (30, 40), cv2.FONT_HERSHEY_SIMPLEX,2, (255, 255, 255), 2)\n",
    "    # Combine the frame and canvas\n",
    "    combined = np.hstack((frame, canvas))\n",
    "\n",
    "    # Display the combined frame\n",
    "    cv2.imshow(combined)\n",
    "    # Display the frame\n",
    "    cv2.imshow('YOLO', np.squeeze(results.render()))\n",
    "    \n",
    "    \n",
    "    # Break the loop if 'q' key is pressed\n",
    "    if cv2.waitKey(10) & 0xFF == ord('q'):\n",
    "        break\n",
    "\n",
    "# Release the video capture and close all windows\n",
    "cap.release()\n",
    "cv2.destroyAllWindows()\n"
   ]
  }
 ],
 "metadata": {
  "kernelspec": {
   "display_name": "Python 3 (ipykernel)",
   "language": "python",
   "name": "python3"
  },
  "language_info": {
   "codemirror_mode": {
    "name": "ipython",
    "version": 3
   },
   "file_extension": ".py",
   "mimetype": "text/x-python",
   "name": "python",
   "nbconvert_exporter": "python",
   "pygments_lexer": "ipython3",
   "version": "3.11.0"
  }
 },
 "nbformat": 4,
 "nbformat_minor": 5
}
